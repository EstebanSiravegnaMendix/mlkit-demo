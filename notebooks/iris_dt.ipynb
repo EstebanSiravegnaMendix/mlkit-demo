{
 "cells": [
  {
   "cell_type": "markdown",
   "metadata": {},
   "source": [
    "# Iris Dataset Example - Decision Tree"
   ]
  },
  {
   "cell_type": "code",
   "execution_count": 18,
   "metadata": {},
   "outputs": [
    {
     "name": "stdout",
     "output_type": "stream",
     "text": [
      "Requirement already satisfied: skl2onnx==1.9.0 in /Library/Frameworks/Python.framework/Versions/3.12/lib/python3.12/site-packages (1.9.0)\n",
      "Requirement already satisfied: numpy>=1.15 in /Library/Frameworks/Python.framework/Versions/3.12/lib/python3.12/site-packages (from skl2onnx==1.9.0) (1.26.4)\n",
      "Requirement already satisfied: scipy>=1.0 in /Library/Frameworks/Python.framework/Versions/3.12/lib/python3.12/site-packages (from skl2onnx==1.9.0) (1.14.0)\n",
      "Requirement already satisfied: protobuf in /Library/Frameworks/Python.framework/Versions/3.12/lib/python3.12/site-packages (from skl2onnx==1.9.0) (3.20.2)\n",
      "Requirement already satisfied: onnx>=1.2.1 in /Library/Frameworks/Python.framework/Versions/3.12/lib/python3.12/site-packages (from skl2onnx==1.9.0) (1.16.1)\n",
      "Requirement already satisfied: scikit-learn>=0.19 in /Library/Frameworks/Python.framework/Versions/3.12/lib/python3.12/site-packages (from skl2onnx==1.9.0) (1.5.1)\n",
      "Requirement already satisfied: onnxconverter-common>=1.6.1 in /Library/Frameworks/Python.framework/Versions/3.12/lib/python3.12/site-packages (from skl2onnx==1.9.0) (1.14.0)\n",
      "Requirement already satisfied: packaging in /Users/yakup.unyilmaz/Library/Python/3.12/lib/python/site-packages (from onnxconverter-common>=1.6.1->skl2onnx==1.9.0) (24.1)\n",
      "Requirement already satisfied: joblib>=1.2.0 in /Library/Frameworks/Python.framework/Versions/3.12/lib/python3.12/site-packages (from scikit-learn>=0.19->skl2onnx==1.9.0) (1.4.2)\n",
      "Requirement already satisfied: threadpoolctl>=3.1.0 in /Library/Frameworks/Python.framework/Versions/3.12/lib/python3.12/site-packages (from scikit-learn>=0.19->skl2onnx==1.9.0) (3.5.0)\n",
      "\n",
      "\u001b[1m[\u001b[0m\u001b[34;49mnotice\u001b[0m\u001b[1;39;49m]\u001b[0m\u001b[39;49m A new release of pip is available: \u001b[0m\u001b[31;49m24.0\u001b[0m\u001b[39;49m -> \u001b[0m\u001b[32;49m24.1.2\u001b[0m\n",
      "\u001b[1m[\u001b[0m\u001b[34;49mnotice\u001b[0m\u001b[1;39;49m]\u001b[0m\u001b[39;49m To update, run: \u001b[0m\u001b[32;49mpython3 -m pip install --upgrade pip\u001b[0m\n",
      "Requirement already satisfied: onnx==1.16.1 in /Library/Frameworks/Python.framework/Versions/3.12/lib/python3.12/site-packages (1.16.1)\n",
      "Requirement already satisfied: numpy>=1.20 in /Library/Frameworks/Python.framework/Versions/3.12/lib/python3.12/site-packages (from onnx==1.16.1) (1.26.4)\n",
      "Requirement already satisfied: protobuf>=3.20.2 in /Library/Frameworks/Python.framework/Versions/3.12/lib/python3.12/site-packages (from onnx==1.16.1) (3.20.2)\n",
      "\n",
      "\u001b[1m[\u001b[0m\u001b[34;49mnotice\u001b[0m\u001b[1;39;49m]\u001b[0m\u001b[39;49m A new release of pip is available: \u001b[0m\u001b[31;49m24.0\u001b[0m\u001b[39;49m -> \u001b[0m\u001b[32;49m24.1.2\u001b[0m\n",
      "\u001b[1m[\u001b[0m\u001b[34;49mnotice\u001b[0m\u001b[1;39;49m]\u001b[0m\u001b[39;49m To update, run: \u001b[0m\u001b[32;49mpython3 -m pip install --upgrade pip\u001b[0m\n",
      "Requirement already satisfied: onnxruntime==1.18.1 in /Library/Frameworks/Python.framework/Versions/3.12/lib/python3.12/site-packages (1.18.1)\n",
      "Requirement already satisfied: coloredlogs in /Library/Frameworks/Python.framework/Versions/3.12/lib/python3.12/site-packages (from onnxruntime==1.18.1) (15.0.1)\n",
      "Requirement already satisfied: flatbuffers in /Library/Frameworks/Python.framework/Versions/3.12/lib/python3.12/site-packages (from onnxruntime==1.18.1) (24.3.25)\n",
      "Requirement already satisfied: numpy<2.0,>=1.21.6 in /Library/Frameworks/Python.framework/Versions/3.12/lib/python3.12/site-packages (from onnxruntime==1.18.1) (1.26.4)\n",
      "Requirement already satisfied: packaging in /Users/yakup.unyilmaz/Library/Python/3.12/lib/python/site-packages (from onnxruntime==1.18.1) (24.1)\n",
      "Requirement already satisfied: protobuf in /Library/Frameworks/Python.framework/Versions/3.12/lib/python3.12/site-packages (from onnxruntime==1.18.1) (3.20.2)\n",
      "Requirement already satisfied: sympy in /Library/Frameworks/Python.framework/Versions/3.12/lib/python3.12/site-packages (from onnxruntime==1.18.1) (1.13.0)\n",
      "Requirement already satisfied: humanfriendly>=9.1 in /Library/Frameworks/Python.framework/Versions/3.12/lib/python3.12/site-packages (from coloredlogs->onnxruntime==1.18.1) (10.0)\n",
      "Requirement already satisfied: mpmath<1.4,>=1.1.0 in /Library/Frameworks/Python.framework/Versions/3.12/lib/python3.12/site-packages (from sympy->onnxruntime==1.18.1) (1.3.0)\n",
      "\n",
      "\u001b[1m[\u001b[0m\u001b[34;49mnotice\u001b[0m\u001b[1;39;49m]\u001b[0m\u001b[39;49m A new release of pip is available: \u001b[0m\u001b[31;49m24.0\u001b[0m\u001b[39;49m -> \u001b[0m\u001b[32;49m24.1.2\u001b[0m\n",
      "\u001b[1m[\u001b[0m\u001b[34;49mnotice\u001b[0m\u001b[1;39;49m]\u001b[0m\u001b[39;49m To update, run: \u001b[0m\u001b[32;49mpython3 -m pip install --upgrade pip\u001b[0m\n"
     ]
    }
   ],
   "source": [
    "import sys\n",
    "\n",
    "!{sys.executable} -m pip install skl2onnx==1.17.0\n",
    "!{sys.executable} -m pip install onnx==1.16.1\n",
    "!{sys.executable} -m pip install onnxruntime==1.18.1"
   ]
  },
  {
   "cell_type": "code",
   "execution_count": 21,
   "metadata": {},
   "outputs": [
    {
     "name": "stdout",
     "output_type": "stream",
     "text": [
      "0.9736842105263158\n"
     ]
    }
   ],
   "source": [
    "from skl2onnx import to_onnx\n",
    "from skl2onnx.common.data_types import FloatTensorType\n",
    "from sklearn.datasets import load_iris\n",
    "from sklearn.tree import DecisionTreeClassifier\n",
    "from sklearn.metrics import accuracy_score\n",
    "from sklearn.model_selection import train_test_split\n",
    "from sklearn.pipeline import make_pipeline\n",
    "from sklearn.preprocessing import StandardScaler\n",
    "\n",
    "import onnxruntime as rt\n",
    "import numpy as np\n",
    "\n",
    "# create a pipeline object\n",
    "pipe = make_pipeline(\n",
    "    StandardScaler(),\n",
    "    DecisionTreeClassifier()\n",
    ")\n",
    "\n",
    "# load the iris dataset and split it into train and test sets\n",
    "X, y = load_iris(return_X_y=True)\n",
    "X_train, X_test, y_train, y_test = train_test_split(X, y, random_state=0)\n",
    "\n",
    "# fit the whole pipeline\n",
    "pipe.fit(X_train, y_train)\n",
    "\n",
    "# we can now use it like any other estimator\n",
    "print(accuracy_score(pipe.predict(X_test), y_test))\n",
    "\n",
    "onxx_pipeline = to_onnx(pipe, initial_types=[('sepalLength', FloatTensorType([None, 1])),\n",
    "                                             ('sepalWidth', FloatTensorType([None, 1])),\n",
    "                                             ('petalLength', FloatTensorType([None, 1])),\n",
    "                                             ('petalWidth', FloatTensorType([None, 1]))])\n",
    "\n",
    "with open(\"iris_dt.onnx\", \"wb\") as f:\n",
    "    f.write(onxx_pipeline.SerializeToString())"
   ]
  },
  {
   "cell_type": "code",
   "execution_count": 22,
   "metadata": {},
   "outputs": [],
   "source": [
    "sess = rt.InferenceSession(\"iris_dt.onnx\")\n",
    "inputs = {'sepalLength': [[5.0]], 'sepalWidth': [[3.5]], 'petalLength': [[4.0]], 'petalWidth': [[5.0]]}\n",
    "\n",
    "pred_onx = sess.run(None, inputs)"
   ]
  },
  {
   "cell_type": "code",
   "execution_count": 23,
   "metadata": {},
   "outputs": [
    {
     "name": "stdout",
     "output_type": "stream",
     "text": [
      "prediction [1]\n",
      "probabilites [{0: 0.0, 1: 1.0, 2: 0.0}]\n"
     ]
    }
   ],
   "source": [
    "print(\"prediction\", pred_onx[0])\n",
    "print(\"probabilites\", pred_onx[1])"
   ]
  }
 ],
 "metadata": {
  "kernelspec": {
   "display_name": "Python 3",
   "language": "python",
   "name": "python3"
  },
  "language_info": {
   "codemirror_mode": {
    "name": "ipython",
    "version": 3
   },
   "file_extension": ".py",
   "mimetype": "text/x-python",
   "name": "python",
   "nbconvert_exporter": "python",
   "pygments_lexer": "ipython3",
   "version": "3.12.4"
  }
 },
 "nbformat": 4,
 "nbformat_minor": 4
}
